{
 "cells": [
  {
   "cell_type": "code",
   "execution_count": 1,
   "id": "4cd56b5a",
   "metadata": {},
   "outputs": [],
   "source": [
    "import torchvision\n",
    "import torchvision.transforms as transforms\n",
    "import torch\n",
    "import torch.nn as nn\n",
    "import matplotlib.pyplot as plt"
   ]
  },
  {
   "cell_type": "code",
   "execution_count": 2,
   "id": "9bbca2c6",
   "metadata": {},
   "outputs": [],
   "source": [
    "#Using Pytorch to download Fashion MNIST \n",
    "train_set = torchvision.datasets.FashionMNIST(root = \".\", train = True , download = True , transform = transforms.ToTensor())\n",
    "test_set = torchvision.datasets.FashionMNIST(root = \".\", train = False , download = True , transform = transforms.ToTensor ())\n",
    "\n",
    "#Training and test loaders will be a list that help us visualise the dataset. \n",
    "train_loader = torch.utils.data.DataLoader(train_set , batch_size = 32, shuffle = True) \n",
    "test_loader = torch.utils.data.DataLoader(test_set , batch_size = 32, shuffle = False)\n",
    "\n",
    "torch.manual_seed(0)\n",
    "torch.backends.cudnn.deterministic = True\n",
    "torch.backends.cudnn.benchmark = False\n"
   ]
  },
  {
   "cell_type": "code",
   "execution_count": 3,
   "id": "46965b91",
   "metadata": {},
   "outputs": [],
   "source": [
    "class Classifier(nn.Module):\n",
    "    def __init__(self):\n",
    "        super(Classifier, self).__init__()\n",
    "        \n",
    "        self.conv_layer_1 = nn.Sequential(nn.Conv2d(1, 32, 5), nn.ReLU(), nn.MaxPool2d(2, 2))\n",
    "        \n",
    "        self.conv_layer_2 = nn.Sequential(nn.Conv2d(32, 64, 5), nn.ReLU(), nn.MaxPool2d(2, 2))\n",
    "        \n",
    "        self.fc_layer_1 = nn.Sequential(nn.Linear(1024, 1024), nn.ReLU())\n",
    "        \n",
    "        self.fc_layer_2 = nn.Sequential(nn.Linear(1024, 256), nn.ReLU())\n",
    "    \n",
    "    def forward(self, x):\n",
    "        x = self.conv_layer_1(x)\n",
    "        \n",
    "        x = self.conv_layer_2(x)\n",
    "        \n",
    "        x = x.reshape(x.size(0), -1)\n",
    "        \n",
    "        x = self.fc_layer_1(x)\n",
    "        \n",
    "        x = self.fc_layer_2(x)\n",
    "        \n",
    "        return x\n",
    "        \n",
    "        \n",
    "        "
   ]
  },
  {
   "cell_type": "code",
   "execution_count": 4,
   "id": "a7fcdb3a",
   "metadata": {},
   "outputs": [],
   "source": [
    "def weights_init(m):\n",
    "    if isinstance(m, nn.Linear) or isinstance(m, nn.Conv2d):\n",
    "        torch.nn.init.xavier_uniform_(m.weight)"
   ]
  },
  {
   "cell_type": "code",
   "execution_count": 5,
   "id": "7d95db0b",
   "metadata": {},
   "outputs": [],
   "source": [
    "def evaluation(dataloader):\n",
    "  \n",
    "    model.eval()\n",
    "    with torch.no_grad():\n",
    "        correct = 0\n",
    "        total = 0\n",
    "        for data in dataloader:\n",
    "            \n",
    "            inputs, labels = data\n",
    "            \n",
    "            outputs = model(inputs)\n",
    "\n",
    "            _, prediction = torch.max(outputs.data, 1)\n",
    "            total += labels.size(0)\n",
    "  \n",
    "            correct += (prediction == labels).sum().item()\n",
    "    return (correct / total) * 100"
   ]
  },
  {
   "cell_type": "code",
   "execution_count": 6,
   "id": "d94a7d14",
   "metadata": {},
   "outputs": [],
   "source": [
    "model = Classifier()\n",
    "\n",
    "model.apply(weights_init)\n",
    "\n",
    "loss_function = nn.CrossEntropyLoss()\n",
    "\n",
    "optimiser = torch.optim.SGD(model.parameters(), lr = 0.1)\n",
    "\n"
   ]
  },
  {
   "cell_type": "code",
   "execution_count": 7,
   "id": "dc35e573",
   "metadata": {},
   "outputs": [
    {
     "name": "stdout",
     "output_type": "stream",
     "text": [
      "Epoch 1: loss: 3274.7490272521973, train accuracy: 68.95166666666667, valid accuracy:67.96\n",
      "Epoch 2: loss: 2663.541819125414, train accuracy: 70.50333333333333, valid accuracy:69.51\n",
      "Epoch 3: loss: 2582.295767247677, train accuracy: 71.47, valid accuracy:69.78\n",
      "Epoch 4: loss: 1543.488279439509, train accuracy: 82.72500000000001, valid accuracy:80.73\n",
      "Epoch 5: loss: 1192.4344421066344, train accuracy: 92.67166666666667, valid accuracy:90.42999999999999\n",
      "Epoch 6: loss: 393.87602633144706, train accuracy: 93.19166666666666, valid accuracy:90.10000000000001\n",
      "Epoch 7: loss: 353.86257710214704, train accuracy: 93.63666666666667, valid accuracy:90.13\n",
      "Epoch 8: loss: 316.5154960947111, train accuracy: 95.0, valid accuracy:90.41\n",
      "Epoch 9: loss: 283.9769812459126, train accuracy: 95.76666666666667, valid accuracy:91.19\n",
      "Epoch 10: loss: 249.4168915040791, train accuracy: 95.705, valid accuracy:90.84\n",
      "Epoch 11: loss: 220.67170673189685, train accuracy: 96.72666666666667, valid accuracy:91.2\n",
      "Epoch 12: loss: 193.84432875999482, train accuracy: 97.12666666666667, valid accuracy:91.01\n",
      "Epoch 13: loss: 171.08693886105902, train accuracy: 96.10833333333333, valid accuracy:89.64\n",
      "Epoch 14: loss: 143.6370513603324, train accuracy: 97.62833333333333, valid accuracy:90.95\n",
      "Epoch 15: loss: 130.76430713938316, train accuracy: 98.01333333333334, valid accuracy:91.08000000000001\n",
      "Epoch 16: loss: 119.75238162145251, train accuracy: 98.25, valid accuracy:90.98\n",
      "Epoch 17: loss: 96.07156093910453, train accuracy: 98.00333333333333, valid accuracy:90.93\n",
      "Epoch 18: loss: 88.47027856847853, train accuracy: 98.615, valid accuracy:91.08000000000001\n",
      "Epoch 19: loss: 80.52436573298473, train accuracy: 98.28, valid accuracy:90.71000000000001\n",
      "Epoch 20: loss: 79.0524799318373, train accuracy: 98.78833333333333, valid accuracy:91.0\n",
      "Epoch 21: loss: 64.97520524855645, train accuracy: 99.12833333333333, valid accuracy:90.94\n",
      "Epoch 22: loss: 59.389583358657546, train accuracy: 98.86, valid accuracy:91.06\n",
      "Epoch 23: loss: 42.632050757187244, train accuracy: 98.88666666666667, valid accuracy:90.77\n",
      "Epoch 24: loss: 45.683595483315, train accuracy: 99.29833333333333, valid accuracy:91.07\n",
      "Epoch 25: loss: 35.7958481678761, train accuracy: 99.50833333333333, valid accuracy:91.10000000000001\n",
      "Epoch 26: loss: 43.011110555051346, train accuracy: 99.45166666666667, valid accuracy:91.09\n",
      "Epoch 27: loss: 30.40846175536808, train accuracy: 99.565, valid accuracy:91.5\n",
      "Epoch 28: loss: 24.51917948892458, train accuracy: 99.74, valid accuracy:91.24\n",
      "Epoch 29: loss: 14.16598056566636, train accuracy: 98.9, valid accuracy:90.55\n",
      "Epoch 30: loss: 4.150864010036912, train accuracy: 99.965, valid accuracy:91.77\n"
     ]
    }
   ],
   "source": [
    "loss_epoch_array = []\n",
    "max_epochs = 30\n",
    "loss_epoch = 0\n",
    "train_accuracy = []\n",
    "test_accuracy = []\n",
    "\n",
    "\n",
    "for epoch in range(max_epochs):\n",
    "  \n",
    "    loss_epoch = 0\n",
    "  \n",
    "    for i, data in enumerate(train_loader, 0):\n",
    "    \n",
    "        model.train()\n",
    "        \n",
    "        inputs, labels = data\n",
    "        \n",
    "        optimiser.zero_grad()\n",
    "        \n",
    "        outputs = model(inputs)\n",
    "        \n",
    "        loss = loss_function(outputs, labels)\n",
    "        \n",
    "        loss.backward()\n",
    "        \n",
    "        optimiser.step()\n",
    "        \n",
    "        loss_epoch += loss.item()\n",
    "  \n",
    "    loss_epoch_array.append(loss_epoch)\n",
    "    train_accuracy.append(evaluation(train_loader))\n",
    "    test_accuracy.append(evaluation(test_loader))\n",
    "    print(\"Epoch {}: loss: {}, train accuracy: {}, valid accuracy:{}\".format(epoch + 1, loss_epoch_array[-1], train_accuracy[-1], test_accuracy[-1]))"
   ]
  },
  {
   "cell_type": "code",
   "execution_count": 8,
   "id": "9e62ef6a",
   "metadata": {},
   "outputs": [
    {
     "data": {
      "text/plain": [
       "<matplotlib.legend.Legend at 0x7fe7c0c61c70>"
      ]
     },
     "execution_count": 8,
     "metadata": {},
     "output_type": "execute_result"
    },
    {
     "data": {
      "image/png": "[encoded data removed]",
      "text/plain": [
       "<Figure size 432x288 with 1 Axes>"
      ]
     },
     "metadata": {
      "needs_background": "light"
     },
     "output_type": "display_data"
    }
   ],
   "source": [
    "plt.xlabel(\"Epoch\")\n",
    "plt.ylabel(\"Accuracy\")\n",
    "plt.plot(train_accuracy, \"r\")\n",
    "plt.plot(test_accuracy, \"b\")\n",
    "plt.gca().legend(('train','test'))"
   ]
  },
  {
   "cell_type": "code",
   "execution_count": 9,
   "id": "4c105e70",
   "metadata": {},
   "outputs": [
    {
     "data": {
      "text/plain": [
       "[<matplotlib.lines.Line2D at 0x7fe7c0cdde80>]"
      ]
     },
     "execution_count": 9,
     "metadata": {},
     "output_type": "execute_result"
    },
    {
     "data": {
      "image/png": "[encoded data removed]",
      "text/plain": [
       "<Figure size 432x288 with 1 Axes>"
      ]
     },
     "metadata": {
      "needs_background": "light"
     },
     "output_type": "display_data"
    }
   ],
   "source": [
    "plt.xlabel(\"Epoch\")\n",
    "plt.ylabel(\"Loss\")\n",
    "plt.plot(loss_epoch_array)"
   ]
  },
  {
   "cell_type": "code",
   "execution_count": 10,
   "id": "092e767e",
   "metadata": {},
   "outputs": [
    {
     "name": "stdout",
     "output_type": "stream",
     "text": [
      "\n",
      "\u001b[1m[\u001b[0m\u001b[34;49mnotice\u001b[0m\u001b[1;39;49m]\u001b[0m\u001b[39;49m A new release of pip available: \u001b[0m\u001b[31;49m22.3\u001b[0m\u001b[39;49m -> \u001b[0m\u001b[32;49m22.3.1\u001b[0m\n",
      "\u001b[1m[\u001b[0m\u001b[34;49mnotice\u001b[0m\u001b[1;39;49m]\u001b[0m\u001b[39;49m To update, run: \u001b[0m\u001b[32;49mpip install --upgrade pip\u001b[0m\n",
      "Note: you may need to restart the kernel to use updated packages.\n"
     ]
    }
   ],
   "source": [
    "pip list > my_env.txt"
   ]
  },
  {
   "cell_type": "code",
   "execution_count": null,
   "id": "3f95981a",
   "metadata": {},
   "outputs": [],
   "source": []
  }
 ],
 "metadata": {
  "kernelspec": {
   "display_name": "Python 3 (ipykernel)",
   "language": "python",
   "name": "python3"
  },
  "language_info": {
   "codemirror_mode": {
    "name": "ipython",
    "version": 3
   },
   "file_extension": ".py",
   "mimetype": "text/x-python",
   "name": "python",
   "nbconvert_exporter": "python",
   "pygments_lexer": "ipython3",
   "version": "3.8.3"
  }
 },
 "nbformat": 4,
 "nbformat_minor": 5
}
