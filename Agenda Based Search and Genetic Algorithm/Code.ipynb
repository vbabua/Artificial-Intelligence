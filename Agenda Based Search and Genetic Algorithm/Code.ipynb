{
 "cells": [
  {
   "cell_type": "markdown",
   "id": "a38895d8",
   "metadata": {},
   "source": [
    "# 2. Agenda-based Search"
   ]
  },
  {
   "cell_type": "code",
   "execution_count": 1,
   "id": "437b0611",
   "metadata": {},
   "outputs": [],
   "source": [
    "import pandas as pd\n",
    "\n",
    "def load_data():\n",
    "    \"\"\"\n",
    "    Loads data from tubedata.csv\n",
    "    :return : data frame of the loaded data\n",
    "    \"\"\"\n",
    "    #Reading data from tubedata.csv\n",
    "    dataframe = pd.read_csv(\"tubedata.csv\", header = None)\n",
    "    return dataframe"
   ]
  },
  {
   "cell_type": "code",
   "execution_count": 2,
   "id": "273502f3",
   "metadata": {},
   "outputs": [
    {
     "data": {
      "text/html": [
       "<div>\n",
       "<style scoped>\n",
       "    .dataframe tbody tr th:only-of-type {\n",
       "        vertical-align: middle;\n",
       "    }\n",
       "\n",
       "    .dataframe tbody tr th {\n",
       "        vertical-align: top;\n",
       "    }\n",
       "\n",
       "    .dataframe thead th {\n",
       "        text-align: right;\n",
       "    }\n",
       "</style>\n",
       "<table border=\"1\" class=\"dataframe\">\n",
       "  <thead>\n",
       "    <tr style=\"text-align: right;\">\n",
       "      <th></th>\n",
       "      <th>0</th>\n",
       "      <th>1</th>\n",
       "      <th>2</th>\n",
       "      <th>3</th>\n",
       "      <th>4</th>\n",
       "      <th>5</th>\n",
       "    </tr>\n",
       "  </thead>\n",
       "  <tbody>\n",
       "    <tr>\n",
       "      <th>0</th>\n",
       "      <td>Harrow &amp; Wealdstone</td>\n",
       "      <td>Kenton</td>\n",
       "      <td>Bakerloo</td>\n",
       "      <td>3</td>\n",
       "      <td>5</td>\n",
       "      <td>0</td>\n",
       "    </tr>\n",
       "    <tr>\n",
       "      <th>1</th>\n",
       "      <td>Kenton</td>\n",
       "      <td>South Kenton</td>\n",
       "      <td>Bakerloo</td>\n",
       "      <td>2</td>\n",
       "      <td>4</td>\n",
       "      <td>0</td>\n",
       "    </tr>\n",
       "    <tr>\n",
       "      <th>2</th>\n",
       "      <td>South Kenton</td>\n",
       "      <td>North Wembley</td>\n",
       "      <td>Bakerloo</td>\n",
       "      <td>2</td>\n",
       "      <td>4</td>\n",
       "      <td>0</td>\n",
       "    </tr>\n",
       "    <tr>\n",
       "      <th>3</th>\n",
       "      <td>North Wembley</td>\n",
       "      <td>Wembley Central</td>\n",
       "      <td>Bakerloo</td>\n",
       "      <td>2</td>\n",
       "      <td>4</td>\n",
       "      <td>0</td>\n",
       "    </tr>\n",
       "    <tr>\n",
       "      <th>4</th>\n",
       "      <td>Wembley Central</td>\n",
       "      <td>Stonebridge Park</td>\n",
       "      <td>Bakerloo</td>\n",
       "      <td>3</td>\n",
       "      <td>4</td>\n",
       "      <td>0</td>\n",
       "    </tr>\n",
       "  </tbody>\n",
       "</table>\n",
       "</div>"
      ],
      "text/plain": [
       "                     0                 1         2  3  4  5\n",
       "0  Harrow & Wealdstone            Kenton  Bakerloo  3  5  0\n",
       "1               Kenton      South Kenton  Bakerloo  2  4  0\n",
       "2         South Kenton     North Wembley  Bakerloo  2  4  0\n",
       "3        North Wembley   Wembley Central  Bakerloo  2  4  0\n",
       "4      Wembley Central  Stonebridge Park  Bakerloo  3  4  0"
      ]
     },
     "execution_count": 2,
     "metadata": {},
     "output_type": "execute_result"
    }
   ],
   "source": [
    "dataframe = load_data()\n",
    "dataframe.head()"
   ]
  },
  {
   "cell_type": "code",
   "execution_count": 3,
   "id": "9d4962a2",
   "metadata": {},
   "outputs": [],
   "source": [
    "import networkx as nx\n",
    "\n",
    "def create_station_graph(dataframe):\n",
    "    \"\"\"\n",
    "    Creates a graph of the stations from the dataframe \n",
    "    : param dataframe : Pandas dataframe containing \n",
    "    : returns station_data : Graph of the stations created from the dataframe passed to it\n",
    "    \"\"\"\n",
    "    station_data = nx.Graph()\n",
    "    for index, row in dataframe.iterrows():\n",
    "        start_station = row[0]\n",
    "        end_station = row[1]\n",
    "        tube_line = row[2]\n",
    "        time = float(row[3])\n",
    "        main_zone = row[4]\n",
    "        sec_zone = row[5]\n",
    "        \n",
    "        station_data.add_edge(start_station, end_station, time = time, tube_line = tube_line, main_zone= main_zone, sec_zone= sec_zone)\n",
    " \n",
    "    return station_data"
   ]
  },
  {
   "cell_type": "code",
   "execution_count": 4,
   "id": "5643a460",
   "metadata": {},
   "outputs": [],
   "source": [
    "station_data = create_station_graph(dataframe)"
   ]
  },
  {
   "cell_type": "markdown",
   "id": "f9cef3a9",
   "metadata": {},
   "source": [
    "# 2.1 Implement BFS, DFS, and UCS"
   ]
  },
  {
   "cell_type": "code",
   "execution_count": 5,
   "id": "0e33b20c",
   "metadata": {},
   "outputs": [],
   "source": [
    "class Station(): \n",
    "    \"\"\"\n",
    "    Used to represent the stations for BFS, DFS and UCS\n",
    "    \"\"\"\n",
    "    def __init__(self, name, parent = None, time = None, tube_line = None):\n",
    "        \"\"\"\n",
    "        Initializes a station with the station details passed to it\n",
    "        : param name : Name of the current station\n",
    "        : param parent : The name of the previously expanded station\n",
    "        : param time : Average time in minutes taken between the current station and parent station\n",
    "        : param tube_line : The line that connects current station and the parent station\n",
    "        \"\"\"\n",
    "        self.name = name\n",
    "        self.parent = parent\n",
    "        self.time = time\n",
    "        self.tube_line = tube_line\n"
   ]
  },
  {
   "cell_type": "code",
   "execution_count": 6,
   "id": "5d3a9f83",
   "metadata": {},
   "outputs": [],
   "source": [
    "def cost_of_path(end_station):\n",
    "    \"\"\"\n",
    "    Finds the path that was taken by backtracking from the end station to the start station\n",
    "    :param end_station : The end station that has to be reached\n",
    "    :returns : The path that was taken from start station to the end station and the time taken to reach end station from start station\n",
    "    \"\"\"\n",
    "    path = []\n",
    "    time = 0\n",
    "    station = end_station\n",
    "    \n",
    "    #Start station is reached when the station does not have a parent\n",
    "    while station.parent is not None: \n",
    "        path.append(station.name)\n",
    "        time += (station.time)\n",
    "        station = station.parent\n",
    "\n",
    "    path.append(station.name)\n",
    "    \n",
    "    #Reversing path as path contains stations from end station to start station\n",
    "    path.reverse()\n",
    "    \n",
    "    return path, time\n",
    "\n"
   ]
  },
  {
   "cell_type": "markdown",
   "id": "21c7e8a8",
   "metadata": {},
   "source": [
    "# DFS"
   ]
  },
  {
   "cell_type": "code",
   "execution_count": 7,
   "id": "ec9f0b1a",
   "metadata": {},
   "outputs": [],
   "source": [
    "def dfs(station_data, start_station_name, end_station_name, reverse = False):\n",
    "    \"\"\"\n",
    "    Implements depth first search algorithm \n",
    "    :returns path: The path found by the depth first search algorithm from start to end station\n",
    "    :returns time_taken : The time taken to travel from start to end station by the dfs\n",
    "    :num_of_explored_stations : The number of stations that was expanded by dfs\n",
    "    \"\"\"\n",
    "    start_station = Station(start_station_name)\n",
    "    \n",
    "    frontier = []\n",
    "         \n",
    "    frontier.append(start_station)\n",
    "    \n",
    "    explored_stations = set()\n",
    "    explored_stations.add(start_station_name)\n",
    "    \n",
    "    num_of_explored_stations = 0     \n",
    "    \n",
    "    #Looking for the best path until frontier is not empty\n",
    "    while frontier:\n",
    "        current_station= frontier.pop()\n",
    "        num_of_explored_stations += 1\n",
    "            \n",
    "            \n",
    "        if current_station.name == end_station_name:\n",
    "            path, time_taken = cost_of_path(current_station)\n",
    "            return path, time_taken, num_of_explored_stations            \n",
    "            \n",
    "        neighbours = reversed(list(station_data.neighbors(current_station.name))) if reverse else station_data.neighbors(current_station.name)\n",
    "            \n",
    "        for neighbour in neighbours:\n",
    "            child_station_time = station_data[current_station.name][neighbour][\"time\"]\n",
    "            child_station_tube = station_data[current_station.name][neighbour][\"tube_line\"]\n",
    "            \n",
    "            child_station = Station(neighbour, current_station, child_station_time, child_station_tube)\n",
    "            \n",
    "            #Child station added to the frontier and explored stations\n",
    "            if neighbour not in explored_stations:                                      \n",
    "                frontier.append(child_station)\n",
    "                explored_stations.add(child_station.name)"
   ]
  },
  {
   "cell_type": "code",
   "execution_count": 8,
   "id": "66404eda",
   "metadata": {},
   "outputs": [
    {
     "name": "stdout",
     "output_type": "stream",
     "text": [
      "Path found by Depth first search algorithm from Euston to Victoria is : \n",
      "['Euston', \"King's Cross St. Pancras\", 'Russell Square', 'Holborn', 'Covent Garden', 'Leicester Square', 'Piccadilly Circus', 'Green Park', 'Victoria']\n",
      "Time taken to travel from Euston to Victoria :  13.0\n",
      "The number of nodes explored on the path from Euston to Victoria is :  25\n"
     ]
    }
   ],
   "source": [
    "path, time_taken, num_of_stations_explored = dfs(station_data, \"Euston\", \"Victoria\")\n",
    "print(\"Path found by Depth first search algorithm from Euston to Victoria is : \\n\" + str(path))\n",
    "print(\"Time taken to travel from Euston to Victoria : \", time_taken)\n",
    "print(\"The number of nodes explored on the path from Euston to Victoria is : \", num_of_stations_explored)\n"
   ]
  },
  {
   "cell_type": "markdown",
   "id": "610ec616",
   "metadata": {},
   "source": [
    "# BFS"
   ]
  },
  {
   "cell_type": "code",
   "execution_count": 9,
   "id": "faca617f",
   "metadata": {},
   "outputs": [],
   "source": [
    "import collections\n",
    "\n",
    "def bfs(station_data, start_station_name, end_station_name, reverse = False):  \n",
    "    \"\"\"\n",
    "    Implements bredth first search algorithm \n",
    "    :returns path: The path found by the bredth first search algorithm from start to end station\n",
    "    :returns time_taken : The time taken to travel from start to end station by the bfs\n",
    "    :num_of_explored_stations : The number of stations that was expanded by bfs\n",
    "    \"\"\"\n",
    "    start_station = Station(start_station_name)\n",
    "    \n",
    "    frontier = collections.deque()\n",
    "         \n",
    "    frontier.append(start_station)\n",
    "    \n",
    "    explored_stations = set()\n",
    "    explored_stations.add(start_station_name)\n",
    "    num_of_explored_stations = 0     \n",
    "    \n",
    "    #Looking for the best path until frontier is not empty\n",
    "    while frontier: \n",
    "        current_station= frontier.popleft()\n",
    "        num_of_explored_stations += 1\n",
    "            \n",
    "            \n",
    "        if current_station.name == end_station_name:\n",
    "            path, time_taken = cost_of_path(current_station)\n",
    "            return path, time_taken, num_of_explored_stations\n",
    "        \n",
    "        neighbours = reversed(list(station_data.neighbors(current_station.name))) if reverse else station_data.neighbors(current_station.name)\n",
    "            \n",
    "        for neighbour in neighbours:\n",
    "            child_station_time = station_data[current_station.name][neighbour][\"time\"]\n",
    "            child_station_tube = station_data[current_station.name][neighbour][\"tube_line\"]\n",
    "                   \n",
    "            child_station = Station(neighbour, current_station, child_station_time, child_station_tube)\n",
    "\n",
    "            #Child station added to the frontier and explored stations\n",
    "            if neighbour not in explored_stations:                                      \n",
    "                frontier.append(child_station)\n",
    "                explored_stations.add(child_station.name)\n",
    "                "
   ]
  },
  {
   "cell_type": "code",
   "execution_count": 10,
   "id": "967f464d",
   "metadata": {},
   "outputs": [
    {
     "name": "stdout",
     "output_type": "stream",
     "text": [
      "Path found by Bredth First Search algorithm from Euston to Victoria is : \n",
      "['Euston', 'Warren Street', 'Oxford Circus', 'Green Park', 'Victoria']\n",
      "Time taken to travel from Euston to Victoria :  7.0\n",
      "The number of nodes explored on the path from Euston to Victoria is :  35\n"
     ]
    }
   ],
   "source": [
    "path, time_taken, num_of_stations_explored = bfs(station_data, \"Euston\", \"Victoria\")\n",
    "print(\"Path found by Bredth First Search algorithm from Euston to Victoria is : \\n\" + str(path))\n",
    "print(\"Time taken to travel from Euston to Victoria : \", time_taken)\n",
    "print(\"The number of nodes explored on the path from Euston to Victoria is : \", num_of_stations_explored)\n"
   ]
  },
  {
   "cell_type": "markdown",
   "id": "27920607",
   "metadata": {},
   "source": [
    "# UCS"
   ]
  },
  {
   "cell_type": "code",
   "execution_count": 11,
   "id": "93584b89",
   "metadata": {},
   "outputs": [],
   "source": [
    "class Ucs():\n",
    "\n",
    "    def __init__(self):\n",
    "        self.frontier=[]\n",
    "        #The stations added to the frontier and the time taken to reach that station added as a frontier\n",
    "        self.frontier_details= []\n",
    "        \n",
    "    def add_station(self,station): \n",
    "        if station.time == None: \n",
    "            self.frontier.append(station)\n",
    "            self.frontier_details.append([station, 0])\n",
    "        else:\n",
    "            self.frontier.append(station)\n",
    "            \n",
    "            time_taken = 0 \n",
    "            child_station = station \n",
    "            \n",
    "            #The sum of time taken from starting station to current station in calculated and stored in time_taken\n",
    "            while child_station.time is not None: \n",
    "                time_taken += child_station.time  \n",
    "                child_station = child_station.parent\n",
    "            \n",
    "            self.frontier_details.append([station, time_taken])   \n",
    "            \n",
    "            #Sorting the stations wrt to time taken to reach the stations\n",
    "            frontier_details_sorted= sorted(self.frontier_details, key=lambda x:x[1], reverse=False)\n",
    "            \n",
    "            frontier_sorted = []\n",
    "            for f in frontier_details_sorted:\n",
    "                if f[0] in self.frontier:\n",
    "                    frontier_sorted.append(f[0])\n",
    "                    \n",
    "            self.frontier = frontier_sorted.copy()\n",
    "    \n",
    "    def remove_station(self): \n",
    "        if len(self.frontier) == 0: \n",
    "            raise Exception (\"The frontier is empty\")\n",
    "        else:                  \n",
    "            station=self.frontier[0]\n",
    "            self.frontier=self.frontier[1:]\n",
    "            return station\n",
    "           "
   ]
  },
  {
   "cell_type": "code",
   "execution_count": 12,
   "id": "8e9f76f8",
   "metadata": {},
   "outputs": [],
   "source": [
    "def ucs(station_data, start_station_name, end_station_name, reverse = False):\n",
    "    \n",
    "    start_station = Station(start_station_name)\n",
    "    \n",
    "    frontier = Ucs()\n",
    "         \n",
    "    frontier.add_station(start_station)\n",
    "    \n",
    "    explored_stations = set()\n",
    "    explored_stations.add(start_station_name)\n",
    "    num_of_explored_stations = 0     \n",
    "    \n",
    "    #Looking for the best path until frontier is not empty\n",
    "    while frontier: \n",
    "        \n",
    "        current_station= frontier.remove_station()\n",
    "        num_of_explored_stations += 1\n",
    "            \n",
    "            \n",
    "        if current_station.name == end_station_name:\n",
    "            path, time_taken = cost_of_path(current_station)\n",
    "            return path, time_taken, num_of_explored_stations\n",
    "            \n",
    "        neighbours = reversed(list(station_data.neighbors(current_station.name))) if reverse else station_data.neighbors(current_station.name)\n",
    "            \n",
    "        for neighbour in neighbours:\n",
    "            child_station_time = station_data[current_station.name][neighbour][\"time\"]\n",
    "            child_station_tube = station_data[current_station.name][neighbour][\"tube_line\"]\n",
    "                \n",
    "                \n",
    "            child_station = Station(neighbour, current_station, child_station_time, child_station_tube)\n",
    "\n",
    "            #Child station added to the frontier and explored stations\n",
    "            if neighbour not in explored_stations:                                      \n",
    "                frontier.add_station(child_station)\n",
    "                explored_stations.add(child_station.name)"
   ]
  },
  {
   "cell_type": "code",
   "execution_count": 13,
   "id": "5159024c",
   "metadata": {},
   "outputs": [
    {
     "name": "stdout",
     "output_type": "stream",
     "text": [
      "Path found by Uniform Cost Search algorithm from Euston to Victoria is : \n",
      "['Euston', 'Warren Street', 'Oxford Circus', 'Green Park', 'Victoria']\n",
      "Time taken to travel from Euston to Victoria :  7.0\n",
      "The number of nodes explored on the path from Euston to Victoria is :  30\n"
     ]
    }
   ],
   "source": [
    "path, time_taken, num_of_stations_explored = ucs(station_data, \"Euston\", \"Victoria\")\n",
    "print(\"Path found by Uniform Cost Search algorithm from Euston to Victoria is : \\n\" + str(path))\n",
    "print(\"Time taken to travel from Euston to Victoria : \", time_taken)\n",
    "print(\"The number of nodes explored on the path from Euston to Victoria is : \", num_of_stations_explored)\n"
   ]
  },
  {
   "cell_type": "markdown",
   "id": "5ee99e1e",
   "metadata": {},
   "source": [
    "# 2.2 Compare DFS, BFS, and USC"
   ]
  },
  {
   "cell_type": "markdown",
   "id": "e795c4f2",
   "metadata": {},
   "source": [
    "### Direct order of explored nodes at each level "
   ]
  },
  {
   "cell_type": "code",
   "execution_count": 14,
   "id": "7edaae14",
   "metadata": {},
   "outputs": [
    {
     "name": "stdout",
     "output_type": "stream",
     "text": [
      "Path found by Depth First Search algorithm from Canada Water to Stratford is : \n",
      "['Canada Water', 'Canary Wharf', 'North Greenwich', 'Canning Town', 'West Ham', 'Stratford']\n",
      "Time taken to travel from Canada Water to Stratford :  15.0\n",
      "The number of nodes explored on the path from Canada Water to Stratford is :  6\n",
      "\n",
      "\n",
      "Path found by Bredth First Search algorithm from Canada Water to Stratford is : \n",
      "['Canada Water', 'Canary Wharf', 'North Greenwich', 'Canning Town', 'West Ham', 'Stratford']\n",
      "Time taken to travel from Canada Water to Stratford :  15.0\n",
      "The number of nodes explored on the path from Canada Water to Stratford is :  40\n",
      "\n",
      "\n",
      "Path found by Uniform Cost Search algorithm from Canada Water to Stratford is : \n",
      "['Canada Water', 'Rotherhithe', 'Wapping', 'Shadwell', 'Whitechapel', 'Stepney Green', 'Mile End', 'Stratford']\n",
      "Time taken to travel from Canada Water to Stratford :  14.0\n",
      "The number of nodes explored on the path from Canada Water to Stratford is :  52\n"
     ]
    }
   ],
   "source": [
    "start_station = \"Canada Water\"\n",
    "end_station = \"Stratford\"\n",
    "\n",
    "path, time_taken, num_of_stations_explored = dfs(station_data, start_station, end_station)\n",
    "print(\"Path found by Depth First Search algorithm from \" + start_station + \" to \" + end_station + \" is : \\n\" + str(path))\n",
    "print(\"Time taken to travel from \" + start_station + \" to \" + end_station + \" : \" , time_taken)\n",
    "print(\"The number of nodes explored on the path from \" + start_station + \" to \" + end_station + \" is : \", num_of_stations_explored)\n",
    "print(\"\\n\")\n",
    "\n",
    "path, time_taken, num_of_stations_explored = bfs(station_data, start_station, end_station)\n",
    "print(\"Path found by Bredth First Search algorithm from \" + start_station + \" to \" + end_station + \" is : \\n\" + str(path))\n",
    "print(\"Time taken to travel from \" + start_station + \" to \" + end_station + \" : \" , time_taken)\n",
    "print(\"The number of nodes explored on the path from \" + start_station + \" to \" + end_station + \" is : \", num_of_stations_explored)\n",
    "print(\"\\n\")\n",
    "\n",
    "path, time_taken, num_of_stations_explored = ucs(station_data, start_station, end_station)\n",
    "print(\"Path found by Uniform Cost Search algorithm from \" + start_station + \" to \" + end_station + \" is : \\n\" + str(path))\n",
    "print(\"Time taken to travel from \" + start_station + \" to \" + end_station + \" : \" , time_taken)\n",
    "print(\"The number of nodes explored on the path from \" + start_station + \" to \" + end_station + \" is : \", num_of_stations_explored)\n"
   ]
  },
  {
   "cell_type": "code",
   "execution_count": 15,
   "id": "23b9af88",
   "metadata": {},
   "outputs": [
    {
     "name": "stdout",
     "output_type": "stream",
     "text": [
      "Path found by Depth First Search algorithm from New Cross Gate to Stepney Green is : \n",
      "['New Cross Gate', 'Surrey Quays', 'Canada Water', 'Canary Wharf', 'North Greenwich', 'Canning Town', 'West Ham', 'Stratford', 'Mile End', 'Stepney Green']\n",
      "Time taken to travel from New Cross Gate to Stepney Green :  27.0\n",
      "The number of nodes explored on the path from New Cross Gate to Stepney Green is :  32\n",
      "\n",
      "\n",
      "Path found by Bredth First Search algorithm from New Cross Gate to Stepney Green is : \n",
      "['New Cross Gate', 'Surrey Quays', 'Canada Water', 'Rotherhithe', 'Wapping', 'Shadwell', 'Whitechapel', 'Stepney Green']\n",
      "Time taken to travel from New Cross Gate to Stepney Green :  14.0\n",
      "The number of nodes explored on the path from New Cross Gate to Stepney Green is :  26\n",
      "\n",
      "\n",
      "Path found by Uniform Cost Search algorithm from New Cross Gate to Stepney Green is : \n",
      "['New Cross Gate', 'Surrey Quays', 'Canada Water', 'Rotherhithe', 'Wapping', 'Shadwell', 'Whitechapel', 'Stepney Green']\n",
      "Time taken to travel from New Cross Gate to Stepney Green :  14.0\n",
      "The number of nodes explored on the path from New Cross Gate to Stepney Green is :  18\n"
     ]
    }
   ],
   "source": [
    "start_station = \"New Cross Gate\"\n",
    "end_station = \"Stepney Green\"\n",
    "\n",
    "path, time_taken, num_of_stations_explored = dfs(station_data, start_station, end_station)\n",
    "print(\"Path found by Depth First Search algorithm from \" + start_station + \" to \" + end_station + \" is : \\n\" + str(path))\n",
    "print(\"Time taken to travel from \" + start_station + \" to \" + end_station + \" : \" , time_taken)\n",
    "print(\"The number of nodes explored on the path from \" + start_station + \" to \" + end_station + \" is : \", num_of_stations_explored)\n",
    "print(\"\\n\")\n",
    "\n",
    "path, time_taken, num_of_stations_explored = bfs(station_data, start_station, end_station)\n",
    "print(\"Path found by Bredth First Search algorithm from \" + start_station + \" to \" + end_station + \" is : \\n\" + str(path))\n",
    "print(\"Time taken to travel from \" + start_station + \" to \" + end_station + \" : \" , time_taken)\n",
    "print(\"The number of nodes explored on the path from \" + start_station + \" to \" + end_station + \" is : \", num_of_stations_explored)\n",
    "print(\"\\n\")\n",
    "\n",
    "path, time_taken, num_of_stations_explored = ucs(station_data, start_station, end_station)\n",
    "print(\"Path found by Uniform Cost Search algorithm from \" + start_station + \" to \" + end_station + \" is : \\n\" + str(path))\n",
    "print(\"Time taken to travel from \" + start_station + \" to \" + end_station + \" : \" , time_taken)\n",
    "print(\"The number of nodes explored on the path from \" + start_station + \" to \" + end_station + \" is : \", num_of_stations_explored)\n"
   ]
  },
  {
   "cell_type": "code",
   "execution_count": 16,
   "id": "6c8036fe",
   "metadata": {},
   "outputs": [
    {
     "name": "stdout",
     "output_type": "stream",
     "text": [
      "Path found by Depth First Search algorithm from Ealing Broadway to South Kensington is : \n",
      "['Ealing Broadway', 'Ealing Common', 'North Ealing', 'Park Royal', 'Alperton', 'Sudbury Town', 'Sudbury Hill', 'South Harrow', 'Rayners Lane', 'West Harrow', 'Harrow-on-the-Hill', 'Northwick Park', 'Preston Road', 'Wembley Park', 'Finchley Road', 'Baker Street', 'Bond Street', 'Green Park', 'Victoria', 'Sloane Square', 'South Kensington']\n",
      "Time taken to travel from Ealing Broadway to South Kensington :  57.0\n",
      "The number of nodes explored on the path from Ealing Broadway to South Kensington is :  179\n",
      "\n",
      "\n",
      "Path found by Bredth First Search algorithm from Ealing Broadway to South Kensington is : \n",
      "['Ealing Broadway', 'Ealing Common', 'Acton Town', 'Turnham Green', 'Hammersmith', 'Barons Court', \"Earls' Court\", 'Gloucester Road', 'South Kensington']\n",
      "Time taken to travel from Ealing Broadway to South Kensington :  20.0\n",
      "The number of nodes explored on the path from Ealing Broadway to South Kensington is :  50\n",
      "\n",
      "\n",
      "Path found by Uniform Cost Search algorithm from Ealing Broadway to South Kensington is : \n",
      "['Ealing Broadway', 'Ealing Common', 'Acton Town', 'Turnham Green', 'Hammersmith', 'Barons Court', \"Earls' Court\", 'Gloucester Road', 'South Kensington']\n",
      "Time taken to travel from Ealing Broadway to South Kensington :  20.0\n",
      "The number of nodes explored on the path from Ealing Broadway to South Kensington is :  53\n"
     ]
    }
   ],
   "source": [
    "start_station = \"Ealing Broadway\"\n",
    "end_station = \"South Kensington\"\n",
    "\n",
    "path, time_taken, num_of_stations_explored = dfs(station_data, start_station, end_station)\n",
    "print(\"Path found by Depth First Search algorithm from \" + start_station + \" to \" + end_station + \" is : \\n\" + str(path))\n",
    "print(\"Time taken to travel from \" + start_station + \" to \" + end_station + \" : \" , time_taken)\n",
    "print(\"The number of nodes explored on the path from \" + start_station + \" to \" + end_station + \" is : \", num_of_stations_explored)\n",
    "print(\"\\n\")\n",
    "\n",
    "path, time_taken, num_of_stations_explored = bfs(station_data, start_station, end_station)\n",
    "print(\"Path found by Bredth First Search algorithm from \" + start_station + \" to \" + end_station + \" is : \\n\" + str(path))\n",
    "print(\"Time taken to travel from \" + start_station + \" to \" + end_station + \" : \" , time_taken)\n",
    "print(\"The number of nodes explored on the path from \" + start_station + \" to \" + end_station + \" is : \", num_of_stations_explored)\n",
    "print(\"\\n\")\n",
    "\n",
    "path, time_taken, num_of_stations_explored = ucs(station_data, start_station, end_station)\n",
    "print(\"Path found by Uniform Cost Search algorithm from \" + start_station + \" to \" + end_station + \" is : \\n\" + str(path))\n",
    "print(\"Time taken to travel from \" + start_station + \" to \" + end_station + \" : \" , time_taken)\n",
    "print(\"The number of nodes explored on the path from \" + start_station + \" to \" + end_station + \" is : \", num_of_stations_explored)\n"
   ]
  },
  {
   "cell_type": "code",
   "execution_count": 17,
   "id": "08a0d17b",
   "metadata": {},
   "outputs": [
    {
     "name": "stdout",
     "output_type": "stream",
     "text": [
      "Path found by Depth First Search algorithm from Baker Street to Wembley Park is : \n",
      "['Baker Street', 'Finchley Road', 'Wembley Park']\n",
      "Time taken to travel from Baker Street to Wembley Park :  13.0\n",
      "The number of nodes explored on the path from Baker Street to Wembley Park is :  3\n",
      "\n",
      "\n",
      "Path found by Bredth First Search algorithm from Baker Street to Wembley Park is : \n",
      "['Baker Street', 'Finchley Road', 'Wembley Park']\n",
      "Time taken to travel from Baker Street to Wembley Park :  13.0\n",
      "The number of nodes explored on the path from Baker Street to Wembley Park is :  16\n",
      "\n",
      "\n",
      "Path found by Uniform Cost Search algorithm from Baker Street to Wembley Park is : \n",
      "['Baker Street', 'Finchley Road', 'Wembley Park']\n",
      "Time taken to travel from Baker Street to Wembley Park :  13.0\n",
      "The number of nodes explored on the path from Baker Street to Wembley Park is :  70\n"
     ]
    }
   ],
   "source": [
    "start_station = \"Baker Street\"\n",
    "end_station = \"Wembley Park\"\n",
    "\n",
    "path, time_taken, num_of_stations_explored = dfs(station_data, start_station, end_station)\n",
    "print(\"Path found by Depth First Search algorithm from \" + start_station + \" to \" + end_station + \" is : \\n\" + str(path))\n",
    "print(\"Time taken to travel from \" + start_station + \" to \" + end_station + \" : \" , time_taken)\n",
    "print(\"The number of nodes explored on the path from \" + start_station + \" to \" + end_station + \" is : \", num_of_stations_explored)\n",
    "print(\"\\n\")\n",
    "\n",
    "path, time_taken, num_of_stations_explored = bfs(station_data, start_station, end_station)\n",
    "print(\"Path found by Bredth First Search algorithm from \" + start_station + \" to \" + end_station + \" is : \\n\" + str(path))\n",
    "print(\"Time taken to travel from \" + start_station + \" to \" + end_station + \" : \" , time_taken)\n",
    "print(\"The number of nodes explored on the path from \" + start_station + \" to \" + end_station + \" is : \", num_of_stations_explored)\n",
    "print(\"\\n\")\n",
    "\n",
    "path, time_taken, num_of_stations_explored = ucs(station_data, start_station, end_station)\n",
    "print(\"Path found by Uniform Cost Search algorithm from \" + start_station + \" to \" + end_station + \" is : \\n\" + str(path))\n",
    "print(\"Time taken to travel from \" + start_station + \" to \" + end_station + \" : \" , time_taken)\n",
    "print(\"The number of nodes explored on the path from \" + start_station + \" to \" + end_station + \" is : \", num_of_stations_explored)\n"
   ]
  },
  {
   "cell_type": "markdown",
   "id": "a2a61c08",
   "metadata": {},
   "source": [
    "### Reverse order of explored nodes at each level"
   ]
  },
  {
   "cell_type": "code",
   "execution_count": 18,
   "id": "49c2e7f0",
   "metadata": {},
   "outputs": [
    {
     "name": "stdout",
     "output_type": "stream",
     "text": [
      "Path found by Depth First Search algorithm from Canada Water to Stratford is : \n",
      "['Canada Water', 'Rotherhithe', 'Wapping', 'Shadwell', 'Whitechapel', 'Aldgate East', 'Liverpool Street', 'Bethnal Green', 'Mile End', 'Stratford']\n",
      "Time taken to travel from Canada Water to Stratford :  20.0\n",
      "The number of nodes explored on the path from Canada Water to Stratford is :  227\n",
      "\n",
      "\n",
      "Path found by Bredth First Search algorithm from Canada Water to Stratford is : \n",
      "['Canada Water', 'Canary Wharf', 'North Greenwich', 'Canning Town', 'West Ham', 'Stratford']\n",
      "Time taken to travel from Canada Water to Stratford :  15.0\n",
      "The number of nodes explored on the path from Canada Water to Stratford is :  25\n",
      "\n",
      "\n",
      "Path found by Uniform Cost Search algorithm from Canada Water to Stratford is : \n",
      "['Canada Water', 'Rotherhithe', 'Wapping', 'Shadwell', 'Whitechapel', 'Stepney Green', 'Mile End', 'Stratford']\n",
      "Time taken to travel from Canada Water to Stratford :  14.0\n",
      "The number of nodes explored on the path from Canada Water to Stratford is :  47\n"
     ]
    }
   ],
   "source": [
    "start_station = \"Canada Water\"\n",
    "end_station = \"Stratford\"\n",
    "\n",
    "path, time_taken, num_of_stations_explored = dfs(station_data, start_station, end_station, True)\n",
    "print(\"Path found by Depth First Search algorithm from \" + start_station + \" to \" + end_station + \" is : \\n\" + str(path))\n",
    "print(\"Time taken to travel from \" + start_station + \" to \" + end_station + \" : \" , time_taken)\n",
    "print(\"The number of nodes explored on the path from \" + start_station + \" to \" + end_station + \" is : \", num_of_stations_explored)\n",
    "print(\"\\n\")\n",
    "\n",
    "path, time_taken, num_of_stations_explored = bfs(station_data, start_station, end_station, True)\n",
    "print(\"Path found by Bredth First Search algorithm from \" + start_station + \" to \" + end_station + \" is : \\n\" + str(path))\n",
    "print(\"Time taken to travel from \" + start_station + \" to \" + end_station + \" : \" , time_taken)\n",
    "print(\"The number of nodes explored on the path from \" + start_station + \" to \" + end_station + \" is : \", num_of_stations_explored)\n",
    "print(\"\\n\")\n",
    "\n",
    "path, time_taken, num_of_stations_explored = ucs(station_data, start_station, end_station, True)\n",
    "print(\"Path found by Uniform Cost Search algorithm from \" + start_station + \" to \" + end_station + \" is : \\n\" + str(path))\n",
    "print(\"Time taken to travel from \" + start_station + \" to \" + end_station + \" : \" , time_taken)\n",
    "print(\"The number of nodes explored on the path from \" + start_station + \" to \" + end_station + \" is : \", num_of_stations_explored)\n"
   ]
  },
  {
   "cell_type": "code",
   "execution_count": 19,
   "id": "371dd9cc",
   "metadata": {},
   "outputs": [
    {
     "name": "stdout",
     "output_type": "stream",
     "text": [
      "Path found by Depth First Search algorithm from New Cross Gate to Stepney Green is : \n",
      "['New Cross Gate', 'Surrey Quays', 'Canada Water', 'Rotherhithe', 'Wapping', 'Shadwell', 'Whitechapel', 'Stepney Green']\n",
      "Time taken to travel from New Cross Gate to Stepney Green :  14.0\n",
      "The number of nodes explored on the path from New Cross Gate to Stepney Green is :  267\n",
      "\n",
      "\n",
      "Path found by Bredth First Search algorithm from New Cross Gate to Stepney Green is : \n",
      "['New Cross Gate', 'Surrey Quays', 'Canada Water', 'Rotherhithe', 'Wapping', 'Shadwell', 'Whitechapel', 'Stepney Green']\n",
      "Time taken to travel from New Cross Gate to Stepney Green :  14.0\n",
      "The number of nodes explored on the path from New Cross Gate to Stepney Green is :  40\n",
      "\n",
      "\n",
      "Path found by Uniform Cost Search algorithm from New Cross Gate to Stepney Green is : \n",
      "['New Cross Gate', 'Surrey Quays', 'Canada Water', 'Rotherhithe', 'Wapping', 'Shadwell', 'Whitechapel', 'Stepney Green']\n",
      "Time taken to travel from New Cross Gate to Stepney Green :  14.0\n",
      "The number of nodes explored on the path from New Cross Gate to Stepney Green is :  18\n"
     ]
    }
   ],
   "source": [
    "start_station = \"New Cross Gate\"\n",
    "end_station = \"Stepney Green\"\n",
    "\n",
    "path, time_taken, num_of_stations_explored = dfs(station_data, start_station, end_station, True)\n",
    "print(\"Path found by Depth First Search algorithm from \" + start_station + \" to \" + end_station + \" is : \\n\" + str(path))\n",
    "print(\"Time taken to travel from \" + start_station + \" to \" + end_station + \" : \" , time_taken)\n",
    "print(\"The number of nodes explored on the path from \" + start_station + \" to \" + end_station + \" is : \", num_of_stations_explored)\n",
    "print(\"\\n\")\n",
    "\n",
    "path, time_taken, num_of_stations_explored = bfs(station_data, start_station, end_station, True)\n",
    "print(\"Path found by Bredth First Search algorithm from \" + start_station + \" to \" + end_station + \" is : \\n\" + str(path))\n",
    "print(\"Time taken to travel from \" + start_station + \" to \" + end_station + \" : \" , time_taken)\n",
    "print(\"The number of nodes explored on the path from \" + start_station + \" to \" + end_station + \" is : \", num_of_stations_explored)\n",
    "print(\"\\n\")\n",
    "\n",
    "path, time_taken, num_of_stations_explored = ucs(station_data, start_station, end_station, True)\n",
    "print(\"Path found by Uniform Cost Search algorithm from \" + start_station + \" to \" + end_station + \" is : \\n\" + str(path))\n",
    "print(\"Time taken to travel from \" + start_station + \" to \" + end_station + \" : \" , time_taken)\n",
    "print(\"The number of nodes explored on the path from \" + start_station + \" to \" + end_station + \" is : \", num_of_stations_explored)\n"
   ]
  },
  {
   "cell_type": "code",
   "execution_count": 20,
   "id": "9817800a",
   "metadata": {},
   "outputs": [
    {
     "name": "stdout",
     "output_type": "stream",
     "text": [
      "Path found by Depth First Search algorithm from Ealing Broadway to South Kensington is : \n",
      "['Ealing Broadway', 'West Acton', 'North Acton', 'East Acton', 'White City', \"Shepherd's Bush\", 'Holland Park', 'Notting Hill Gate', 'Queensway', 'Lancaster Gate', 'Marble Arch', 'Bond Street', 'Oxford Circus', 'Piccadilly Circus', 'Charing Cross', 'Embankment', 'Waterloo', 'Kennington', 'Oval', 'Stockwell', 'Vauxhall', 'Pimlico', 'Victoria', 'Sloane Square', 'South Kensington']\n",
      "Time taken to travel from Ealing Broadway to South Kensington :  51.0\n",
      "The number of nodes explored on the path from Ealing Broadway to South Kensington is :  157\n",
      "\n",
      "\n",
      "Path found by Bredth First Search algorithm from Ealing Broadway to South Kensington is : \n",
      "['Ealing Broadway', 'Ealing Common', 'Acton Town', 'Turnham Green', 'Hammersmith', 'Barons Court', \"Earls' Court\", 'Gloucester Road', 'South Kensington']\n",
      "Time taken to travel from Ealing Broadway to South Kensington :  20.0\n",
      "The number of nodes explored on the path from Ealing Broadway to South Kensington is :  47\n",
      "\n",
      "\n",
      "Path found by Uniform Cost Search algorithm from Ealing Broadway to South Kensington is : \n",
      "['Ealing Broadway', 'Ealing Common', 'Acton Town', 'Turnham Green', 'Hammersmith', 'Barons Court', \"Earls' Court\", 'Gloucester Road', 'South Kensington']\n",
      "Time taken to travel from Ealing Broadway to South Kensington :  20.0\n",
      "The number of nodes explored on the path from Ealing Broadway to South Kensington is :  52\n"
     ]
    }
   ],
   "source": [
    "start_station = \"Ealing Broadway\"\n",
    "end_station = \"South Kensington\"\n",
    "\n",
    "path, time_taken, num_of_stations_explored = dfs(station_data, start_station, end_station, True)\n",
    "print(\"Path found by Depth First Search algorithm from \" + start_station + \" to \" + end_station + \" is : \\n\" + str(path))\n",
    "print(\"Time taken to travel from \" + start_station + \" to \" + end_station + \" : \" , time_taken)\n",
    "print(\"The number of nodes explored on the path from \" + start_station + \" to \" + end_station + \" is : \", num_of_stations_explored)\n",
    "print(\"\\n\")\n",
    "\n",
    "path, time_taken, num_of_stations_explored = bfs(station_data, start_station, end_station, True)\n",
    "print(\"Path found by Bredth First Search algorithm from \" + start_station + \" to \" + end_station + \" is : \\n\" + str(path))\n",
    "print(\"Time taken to travel from \" + start_station + \" to \" + end_station + \" : \" , time_taken)\n",
    "print(\"The number of nodes explored on the path from \" + start_station + \" to \" + end_station + \" is : \", num_of_stations_explored)\n",
    "print(\"\\n\")\n",
    "\n",
    "path, time_taken, num_of_stations_explored = ucs(station_data, start_station, end_station, True)\n",
    "print(\"Path found by Uniform Cost Search algorithm from \" + start_station + \" to \" + end_station + \" is : \\n\" + str(path))\n",
    "print(\"Time taken to travel from \" + start_station + \" to \" + end_station + \" : \" , time_taken)\n",
    "print(\"The number of nodes explored on the path from \" + start_station + \" to \" + end_station + \" is : \", num_of_stations_explored)\n"
   ]
  },
  {
   "cell_type": "code",
   "execution_count": 21,
   "id": "64d24532",
   "metadata": {},
   "outputs": [
    {
     "name": "stdout",
     "output_type": "stream",
     "text": [
      "Path found by Depth First Search algorithm from Baker Street to Wembley Park is : \n",
      "['Baker Street', \"Regent's Park\", 'Oxford Circus', 'Piccadilly Circus', 'Charing Cross', 'Embankment', 'Waterloo', 'Kennington', 'Oval', 'Stockwell', 'Vauxhall', 'Pimlico', 'Victoria', 'Sloane Square', 'South Kensington', 'Gloucester Road', 'High Street Kensington', 'Notting Hill Gate', 'Holland Park', \"Shepherd's Bush\", 'White City', 'East Acton', 'North Acton', 'West Acton', 'Ealing Broadway', 'Ealing Common', 'North Ealing', 'Park Royal', 'Alperton', 'Sudbury Town', 'Sudbury Hill', 'South Harrow', 'Rayners Lane', 'West Harrow', 'Harrow-on-the-Hill', 'Northwick Park', 'Preston Road', 'Wembley Park']\n",
      "Time taken to travel from Baker Street to Wembley Park :  89.0\n",
      "The number of nodes explored on the path from Baker Street to Wembley Park is :  191\n",
      "\n",
      "\n",
      "Path found by Bredth First Search algorithm from Baker Street to Wembley Park is : \n",
      "['Baker Street', 'Finchley Road', 'Wembley Park']\n",
      "Time taken to travel from Baker Street to Wembley Park :  13.0\n",
      "The number of nodes explored on the path from Baker Street to Wembley Park is :  9\n",
      "\n",
      "\n",
      "Path found by Uniform Cost Search algorithm from Baker Street to Wembley Park is : \n",
      "['Baker Street', 'Finchley Road', 'Wembley Park']\n",
      "Time taken to travel from Baker Street to Wembley Park :  13.0\n",
      "The number of nodes explored on the path from Baker Street to Wembley Park is :  70\n"
     ]
    }
   ],
   "source": [
    "start_station = \"Baker Street\"\n",
    "end_station = \"Wembley Park\"\n",
    "\n",
    "path, time_taken, num_of_stations_explored = dfs(station_data, start_station, end_station, True)\n",
    "print(\"Path found by Depth First Search algorithm from \" + start_station + \" to \" + end_station + \" is : \\n\" + str(path))\n",
    "print(\"Time taken to travel from \" + start_station + \" to \" + end_station + \" : \" , time_taken)\n",
    "print(\"The number of nodes explored on the path from \" + start_station + \" to \" + end_station + \" is : \", num_of_stations_explored)\n",
    "print(\"\\n\")\n",
    "\n",
    "path, time_taken, num_of_stations_explored = bfs(station_data, start_station, end_station, True)\n",
    "print(\"Path found by Bredth First Search algorithm from \" + start_station + \" to \" + end_station + \" is : \\n\" + str(path))\n",
    "print(\"Time taken to travel from \" + start_station + \" to \" + end_station + \" : \" , time_taken)\n",
    "print(\"The number of nodes explored on the path from \" + start_station + \" to \" + end_station + \" is : \", num_of_stations_explored)\n",
    "print(\"\\n\")\n",
    "\n",
    "path, time_taken, num_of_stations_explored = ucs(station_data, start_station, end_station, True)\n",
    "print(\"Path found by Uniform Cost Search algorithm from \" + start_station + \" to \" + end_station + \" is : \\n\" + str(path))\n",
    "print(\"Time taken to travel from \" + start_station + \" to \" + end_station + \" : \" , time_taken)\n",
    "print(\"The number of nodes explored on the path from \" + start_station + \" to \" + end_station + \" is : \", num_of_stations_explored)\n"
   ]
  },
  {
   "cell_type": "markdown",
   "id": "07430334",
   "metadata": {},
   "source": [
    "# 2.3 Extending Cost Function"
   ]
  },
  {
   "cell_type": "code",
   "execution_count": 22,
   "id": "958d0ec2",
   "metadata": {},
   "outputs": [],
   "source": [
    "class UcsImproved():\n",
    "\n",
    "    def __init__(self):\n",
    "        self.frontier = []\n",
    "        #The stations added to the frontier and the time taken to reach that station added as a frontier\n",
    "        self.frontier_details = []\n",
    "        \n",
    "    def add_station(self,station): \n",
    "        #Startng station is added to the frontier with time taken to reach the station as 0\n",
    "        if station.time == None: \n",
    "            self.frontier.append(station)\n",
    "            self.frontier_details.append([station, 0])\n",
    "        else:\n",
    "            self.frontier.append(station)\n",
    "            \n",
    "            time_taken =0 \n",
    "            child_station = station \n",
    "            \n",
    "            while child_station.time is not None: \n",
    "                time_taken += child_station.time \n",
    "                child_station = child_station.parent\n",
    "             \n",
    "            tube_line_parent=station.parent.tube_line\n",
    "            tube_line_child = station.tube_line\n",
    "            if tube_line_parent is not None:\n",
    "                 \n",
    "                if tube_line_parent != tube_line_child:\n",
    "                    time_taken += 2 \n",
    "            \n",
    "            self.frontier_details.append([station, time_taken])\n",
    "            \n",
    "            frontier_details_sorted= sorted(self.frontier_details, key=lambda x:x[1], reverse=False)\n",
    "            \n",
    "            frontier_sorted = []\n",
    "            for x in frontier_details_sorted:\n",
    "                if x[0] in self.frontier:\n",
    "                    frontier_sorted.append(x[0])\n",
    "                    \n",
    "            self.frontier = frontier_sorted.copy()\n",
    "            \n",
    "    def remove_station(self): \n",
    "        if len(self.frontier) == 0: \n",
    "            raise Exception (\"The frontier is empty\")\n",
    "        else: \n",
    "                        \n",
    "            station=self.frontier[0]\n",
    "            self.frontier=self.frontier[1:]\n",
    "            return station"
   ]
  },
  {
   "cell_type": "code",
   "execution_count": 23,
   "id": "24dc0cd6",
   "metadata": {},
   "outputs": [],
   "source": [
    "def ucs_improved(station_data, start_station_name, end_station_name, reverse = False):\n",
    "    start_station = Station(start_station_name)\n",
    "     \n",
    "    frontier = UcsImproved()\n",
    "   \n",
    "    frontier.add_station(start_station)\n",
    "    \n",
    "    explored_stations=set()\n",
    "    explored_stations.add((start_station_name, None))\n",
    "    \n",
    "    num_of_explored_stations = 0\n",
    "    \n",
    "    #Looking for the best path until frontier is not empty\n",
    "    while frontier: \n",
    "        current_station = frontier.remove_station()\n",
    "\n",
    "        num_of_explored_stations += 1\n",
    "            \n",
    "        if current_station.name == end_station_name:\n",
    "            path, time_taken = cost_of_path(current_station)\n",
    "            return path, time_taken, num_of_explored_stations\n",
    "            \n",
    "        neighbours = reversed(list(station_data.neighbors(current_station.name))) if reverse else station_data.neighbors(current_station.name)\n",
    "            \n",
    "        for neighbour in neighbours:\n",
    "            child_station_time =station_data[current_station.name][neighbour][\"time\"]\n",
    "            child_station_tube_line =station_data[current_station.name][neighbour][\"tube_line\"]\n",
    "  \n",
    "            child_station = Station(neighbour, current_station, child_station_time, child_station_tube_line)\n",
    "\n",
    "            #Child station added to the frontier and explored stations\n",
    "            if (neighbour, child_station_tube_line) not in explored_stations:                                      \n",
    "                frontier.add_station(child_station)\n",
    "                explored_stations.add((child_station.name, child_station.tube_line))           \n"
   ]
  },
  {
   "cell_type": "code",
   "execution_count": 24,
   "id": "66e050cd",
   "metadata": {},
   "outputs": [
    {
     "name": "stdout",
     "output_type": "stream",
     "text": [
      "Path found by Uniform Cost Search algorithm from Euston to Victoria is : \n",
      "['Euston', 'Warren Street', 'Oxford Circus', 'Green Park', 'Victoria']\n",
      "Time taken to travel from Euston to Victoria :  7.0\n",
      "The number of nodes explored on the path from Euston to Victoria is :  30\n"
     ]
    }
   ],
   "source": [
    "path, time_taken, num_of_stations_explored = ucs_improved(station_data, \"Euston\", \"Victoria\")\n",
    "print(\"Path found by Uniform Cost Search algorithm from Euston to Victoria is : \\n\" + str(path))\n",
    "print(\"Time taken to travel from Euston to Victoria : \", time_taken)\n",
    "print(\"The number of nodes explored on the path from Euston to Victoria is : \", num_of_stations_explored)\n"
   ]
  },
  {
   "cell_type": "markdown",
   "id": "8b433317",
   "metadata": {},
   "source": [
    "Canada Water to Stratford"
   ]
  },
  {
   "cell_type": "code",
   "execution_count": 25,
   "id": "dff1158f",
   "metadata": {
    "scrolled": true
   },
   "outputs": [
    {
     "name": "stdout",
     "output_type": "stream",
     "text": [
      "Path found by Uniform Cost Search algorithm from Canada Water to Stratford is : \n",
      "['Canada Water', 'Rotherhithe', 'Wapping', 'Shadwell', 'Whitechapel', 'Stepney Green', 'Mile End', 'Stratford']\n",
      "Time taken to travel from Canada Water to Stratford :  14.0\n",
      "The number of nodes explored on the path from Canada Water to Stratford is :  52\n",
      "\n",
      "\n",
      "Path found by Improved Uniform Cost Search algorithm from Canada Water to Stratford is : \n",
      "['Canada Water', 'Canary Wharf', 'North Greenwich', 'Canning Town', 'West Ham', 'Stratford']\n",
      "Time taken to travel from Canada Water to Stratford :  15.0\n",
      "The number of nodes explored on the path from Canada Water to Stratford is :  74\n"
     ]
    }
   ],
   "source": [
    "start_station = \"Canada Water\"\n",
    "end_station = \"Stratford\"\n",
    "\n",
    "path, time_taken, num_of_stations_explored = ucs(station_data, start_station, end_station)\n",
    "print(\"Path found by Uniform Cost Search algorithm from \" + start_station + \" to \" + end_station + \" is : \\n\" + str(path))\n",
    "print(\"Time taken to travel from \" + start_station + \" to \" + end_station + \" : \" , time_taken)\n",
    "print(\"The number of nodes explored on the path from \" + start_station + \" to \" + end_station + \" is : \", num_of_stations_explored)\n",
    "print(\"\\n\")\n",
    "\n",
    "path, time_taken, num_of_stations_explored = ucs_improved(station_data, start_station, end_station)\n",
    "print(\"Path found by Improved Uniform Cost Search algorithm from \" + start_station + \" to \" + end_station + \" is : \\n\" + str(path))\n",
    "print(\"Time taken to travel from \" + start_station + \" to \" + end_station + \" : \" , time_taken)\n",
    "print(\"The number of nodes explored on the path from \" + start_station + \" to \" + end_station + \" is : \", num_of_stations_explored)\n"
   ]
  },
  {
   "cell_type": "markdown",
   "id": "d3a3d0ba",
   "metadata": {},
   "source": [
    "New Cross Gate to Stepney Green"
   ]
  },
  {
   "cell_type": "code",
   "execution_count": 26,
   "id": "6f0999ca",
   "metadata": {},
   "outputs": [
    {
     "name": "stdout",
     "output_type": "stream",
     "text": [
      "Path found by Uniform Cost Search algorithm from New Cross Gate to Stepney Green is : \n",
      "['New Cross Gate', 'Surrey Quays', 'Canada Water', 'Rotherhithe', 'Wapping', 'Shadwell', 'Whitechapel', 'Stepney Green']\n",
      "Time taken to travel from New Cross Gate to Stepney Green :  14.0\n",
      "The number of nodes explored on the path from New Cross Gate to Stepney Green is :  18\n",
      "\n",
      "\n",
      "Path found by Improved Uniform Cost Search algorithm from New Cross Gate to Stepney Green is : \n",
      "['New Cross Gate', 'Surrey Quays', 'Canada Water', 'Rotherhithe', 'Wapping', 'Shadwell', 'Whitechapel', 'Stepney Green']\n",
      "Time taken to travel from New Cross Gate to Stepney Green :  14.0\n",
      "The number of nodes explored on the path from New Cross Gate to Stepney Green is :  25\n"
     ]
    }
   ],
   "source": [
    "start_station = \"New Cross Gate\"\n",
    "end_station = \"Stepney Green\"\n",
    "\n",
    "path, time_taken, num_of_stations_explored = ucs(station_data, start_station, end_station)\n",
    "print(\"Path found by Uniform Cost Search algorithm from \" + start_station + \" to \" + end_station + \" is : \\n\" + str(path))\n",
    "print(\"Time taken to travel from \" + start_station + \" to \" + end_station + \" : \" , time_taken)\n",
    "print(\"The number of nodes explored on the path from \" + start_station + \" to \" + end_station + \" is : \", num_of_stations_explored)\n",
    "print(\"\\n\")\n",
    "\n",
    "path, time_taken, num_of_stations_explored = ucs_improved(station_data, start_station, end_station)\n",
    "print(\"Path found by Improved Uniform Cost Search algorithm from \" + start_station + \" to \" + end_station + \" is : \\n\" + str(path))\n",
    "print(\"Time taken to travel from \" + start_station + \" to \" + end_station + \" : \" , time_taken)\n",
    "print(\"The number of nodes explored on the path from \" + start_station + \" to \" + end_station + \" is : \", num_of_stations_explored)\n"
   ]
  },
  {
   "cell_type": "markdown",
   "id": "a343eda4",
   "metadata": {},
   "source": [
    "Ealing Broadway to South Kensington"
   ]
  },
  {
   "cell_type": "code",
   "execution_count": 27,
   "id": "37904495",
   "metadata": {},
   "outputs": [
    {
     "name": "stdout",
     "output_type": "stream",
     "text": [
      "Path found by Uniform Cost Search algorithm from Ealing Broadway to South Kensington is : \n",
      "['Ealing Broadway', 'Ealing Common', 'Acton Town', 'Turnham Green', 'Hammersmith', 'Barons Court', \"Earls' Court\", 'Gloucester Road', 'South Kensington']\n",
      "Time taken to travel from Ealing Broadway to South Kensington :  20.0\n",
      "The number of nodes explored on the path from Ealing Broadway to South Kensington is :  53\n",
      "\n",
      "\n",
      "Path found by Improved Uniform Cost Search algorithm from Ealing Broadway to South Kensington is : \n",
      "['Ealing Broadway', 'Ealing Common', 'Acton Town', 'Turnham Green', 'Hammersmith', 'Barons Court', \"Earls' Court\", 'Gloucester Road', 'South Kensington']\n",
      "Time taken to travel from Ealing Broadway to South Kensington :  20.0\n",
      "The number of nodes explored on the path from Ealing Broadway to South Kensington is :  58\n"
     ]
    }
   ],
   "source": [
    "start_station = \"Ealing Broadway\"\n",
    "end_station = \"South Kensington\"\n",
    "\n",
    "path, time_taken, num_of_stations_explored = ucs(station_data, start_station, end_station)\n",
    "print(\"Path found by Uniform Cost Search algorithm from \" + start_station + \" to \" + end_station + \" is : \\n\" + str(path))\n",
    "print(\"Time taken to travel from \" + start_station + \" to \" + end_station + \" : \" , time_taken)\n",
    "print(\"The number of nodes explored on the path from \" + start_station + \" to \" + end_station + \" is : \", num_of_stations_explored)\n",
    "print(\"\\n\")\n",
    "\n",
    "path, time_taken, num_of_stations_explored = ucs_improved(station_data, start_station, end_station)\n",
    "print(\"Path found by Improved Uniform Cost Search algorithm from \" + start_station + \" to \" + end_station + \" is : \\n\" + str(path))\n",
    "print(\"Time taken to travel from \" + start_station + \" to \" + end_station + \" : \" , time_taken)\n",
    "print(\"The number of nodes explored on the path from \" + start_station + \" to \" + end_station + \" is : \", num_of_stations_explored)\n"
   ]
  },
  {
   "cell_type": "markdown",
   "id": "0f75d425",
   "metadata": {},
   "source": [
    "Baker Street to Wembley Park"
   ]
  },
  {
   "cell_type": "code",
   "execution_count": 28,
   "id": "e244bddc",
   "metadata": {},
   "outputs": [
    {
     "name": "stdout",
     "output_type": "stream",
     "text": [
      "Path found by Uniform Cost Search algorithm from Baker Street to Wembley Park is : \n",
      "['Baker Street', 'Finchley Road', 'Wembley Park']\n",
      "Time taken to travel from Baker Street to Wembley Park :  13.0\n",
      "The number of nodes explored on the path from Baker Street to Wembley Park is :  70\n",
      "\n",
      "\n",
      "Path found by Improved Uniform Cost Search algorithm from Baker Street to Wembley Park is : \n",
      "['Baker Street', 'Finchley Road', 'Wembley Park']\n",
      "Time taken to travel from Baker Street to Wembley Park :  13.0\n",
      "The number of nodes explored on the path from Baker Street to Wembley Park is :  89\n"
     ]
    }
   ],
   "source": [
    "start_station = \"Baker Street\"\n",
    "end_station = \"Wembley Park\"\n",
    "\n",
    "path, time_taken, num_of_stations_explored = ucs(station_data, start_station, end_station)\n",
    "print(\"Path found by Uniform Cost Search algorithm from \" + start_station + \" to \" + end_station + \" is : \\n\" + str(path))\n",
    "print(\"Time taken to travel from \" + start_station + \" to \" + end_station + \" : \" , time_taken)\n",
    "print(\"The number of nodes explored on the path from \" + start_station + \" to \" + end_station + \" is : \", num_of_stations_explored)\n",
    "print(\"\\n\")\n",
    "\n",
    "path, time_taken, num_of_stations_explored = ucs_improved(station_data, start_station, end_station)\n",
    "print(\"Path found by Improved Uniform Cost Search algorithm from \" + start_station + \" to \" + end_station + \" is : \\n\" + str(path))\n",
    "print(\"Time taken to travel from \" + start_station + \" to \" + end_station + \" : \" , time_taken)\n",
    "print(\"The number of nodes explored on the path from \" + start_station + \" to \" + end_station + \" is : \", num_of_stations_explored)\n"
   ]
  },
  {
   "cell_type": "markdown",
   "id": "b825a824",
   "metadata": {},
   "source": [
    "# Heuristic Search"
   ]
  },
  {
   "cell_type": "code",
   "execution_count": 29,
   "id": "c8ded7f1",
   "metadata": {},
   "outputs": [],
   "source": [
    "class StationDetails(): \n",
    "    \"\"\"\n",
    "    Used to represent the stations for BFS, DFS and UCS\n",
    "    \"\"\"\n",
    "    def __init__(self, name, parent = None, time = None, tube_line = None, main_zone = None, sec_zone = None):\n",
    "        \"\"\"\n",
    "        Initializes a station with the station details passed to it\n",
    "        : param name : Name of the current station\n",
    "        : param parent : The name of the previously expanded station\n",
    "        : param time : Average time in minutes taken between the current station and parent station\n",
    "        : param tube_line : The line that connects current station and the parent station\n",
    "        : param main_zone : Main zone of the current station\n",
    "        : param sec_zone : Secondary zone of the current station\n",
    "        \"\"\"\n",
    "        self.name = name\n",
    "        self.parent = parent\n",
    "        self.time = time\n",
    "        self.tube_line = tube_line\n",
    "        self.main_zone = main_zone\n",
    "        self.sec_zone = sec_zone"
   ]
  },
  {
   "cell_type": "code",
   "execution_count": 30,
   "id": "72344fd3",
   "metadata": {},
   "outputs": [],
   "source": [
    "from collections import defaultdict\n",
    "\n",
    "def create_zone_dictionary(dataframe):\n",
    "    zone_dict = defaultdict(set)\n",
    "    for index, row in dataframe.iterrows():\n",
    "        start_station = row[0]\n",
    "        end_station = row[1]\n",
    "        main_zone = row[4]\n",
    "        sec_zone = row[5]\n",
    "        # we add the main zone\n",
    "        zone_dict[start_station].add(main_zone) \n",
    "    \n",
    "        # we add the secondary zone\n",
    "        if sec_zone != \"0\":\n",
    "            zone_dict[start_station].add(sec_zone)\n",
    "        \n",
    "            # if the secondary zone is not 0 it’s the main zone for the ending station \n",
    "            zone_dict[end_station].add(sec_zone)\n",
    "    \n",
    "        else:\n",
    "            # otherwise the main zone for the ending station is the same as the starting station \n",
    "            zone_dict[end_station].add(main_zone)\n",
    "    \n",
    "    zone_dictionary = defaultdict(list)\n",
    "    for station in zone_dict:\n",
    "        zone_list = []\n",
    "        for zone in zone_dict[station]:\n",
    "            zone_list.append(zone)\n",
    "        if len(zone_list) == 1:\n",
    "            zone_list.append(zone_list[0])\n",
    "        zone_dictionary[station] = zone_list\n",
    "    return zone_dictionary\n",
    "        \n",
    "        "
   ]
  },
  {
   "cell_type": "code",
   "execution_count": 31,
   "id": "86585fec",
   "metadata": {},
   "outputs": [],
   "source": [
    "zone_dictionary = create_zone_dictionary(dataframe)"
   ]
  },
  {
   "cell_type": "code",
   "execution_count": 32,
   "id": "de9f842b",
   "metadata": {},
   "outputs": [],
   "source": [
    "class BestFirstSearch():\n",
    "\n",
    "    def __init__(self):\n",
    "        self.frontier=[]\n",
    "        self.frontier_details= []\n",
    "        \n",
    "    def add_station(self,station, end_main_zone, end_sec_zone, current_main_zone, current_sec_zone): \n",
    "        \n",
    "        if station.time == None: \n",
    "            self.frontier.append(station)\n",
    "            self.frontier_details.append([station, 0])\n",
    "        else:\n",
    "            self.frontier.append(station)\n",
    "           \n",
    "            heursitic = 0 \n",
    "            child_station = station   \n",
    "            \n",
    "            tube_line_parent= station.parent.tube_line\n",
    "            tube_line_child = station.tube_line\n",
    "                          \n",
    "            parent = station.parent\n",
    "            parent_main_zone, parent_sec_zone = zone_dictionary[parent.name]\n",
    "            \n",
    "            zone_number = {\"1\": 1, \"2\": 2, \"3\": 3, \"4\":4, \"5\": 5, \"6\": 6, \"a\": 7, \"b\": 8, \"c\": 9, \"d\": 10}  \n",
    "            end_main_zone = zone_number[end_main_zone]\n",
    "            end_sec_zone = zone_number[end_sec_zone]\n",
    "            \n",
    "            current_main_zone = zone_number[current_main_zone]\n",
    "            current_sec_zone = zone_number[current_sec_zone]\n",
    "            \n",
    "            parent_main_zone = zone_number[parent_main_zone]\n",
    "            parent_sec_zone = zone_number[parent_sec_zone]\n",
    "            \n",
    "            #If the end station and the current station is the same zone then heuristic value is not changed\n",
    "            if not (current_main_zone == end_main_zone or current_sec_zone == end_main_zone or current_main_zone == end_sec_zone or current_sec_zone == end_sec_zone):\n",
    "                \n",
    "                #If the previous station and the current station are in the same zone then heuristics increased by 3\n",
    "                if parent_main_zone == current_main_zone or parent_main_zone == current_sec_zone or parent_sec_zone == current_main_zone or parent_sec_zone == current_sec_zone:\n",
    "                    heursitic += 3\n",
    "                    \n",
    "                #If we are moving in the corrct direction higher zone to lower zone then heuristics increased by 2\n",
    "                elif current_main_zone >end_main_zone or current_sec_zone > end_main_zone or current_main_zone >end_sec_zone or current_sec_zone>end_sec_zone: \n",
    "                    if parent_main_zone == current_main_zone + 1 or parent_main_zone == current_sec_zone + 1 or parent_sec_zone == current_main_zone + 1 or parent_sec_zone == current_sec_zone+1:\n",
    "                        heursitic += 2\n",
    "                    else:\n",
    "                        #If not moving in the correct direction heuristics increased by 4\n",
    "                        heursitic += 4\n",
    "                else:\n",
    "                    #If we are moving in the corrct direction lower zone to higher zone then heuristics increased by 2\n",
    "                    if parent_main_zone == current_main_zone - 1 or parent_main_zone == current_sec_zone-1 or parent_sec_zone == current_main_zone - 1 or parent_sec_zone == current_sec_zone - 1:\n",
    "                        heursitic += 2\n",
    "                    else:\n",
    "                        #If not moving in the correct direction heuristics increased by 4\n",
    "                        heursitic += 4\n",
    "\n",
    "            \n",
    "\n",
    "            self.frontier_details.append([station, heursitic])\n",
    "            \n",
    "            frontier_details_sorted = sorted(self.frontier_details, key=lambda x:x[1], reverse=False)\n",
    "            \n",
    "            frontier_sorted = []\n",
    "            for f in frontier_details_sorted:\n",
    "                if f[0] in self.frontier:\n",
    "                    frontier_sorted.append(f[0])         \n",
    "            \n",
    "            self.frontier = frontier_sorted.copy()  \n",
    "    \n",
    "    def remove_station(self): \n",
    "        if len(self.frontier) == 0: \n",
    "            raise Exception (\"The frontier is empty\")\n",
    "        else:                \n",
    "            station=self.frontier[0]\n",
    "            self.frontier = self.frontier[1:]\n",
    "            return station        \n",
    "            \n"
   ]
  },
  {
   "cell_type": "code",
   "execution_count": 33,
   "id": "6a058c8d",
   "metadata": {},
   "outputs": [],
   "source": [
    "def best_first_search(station_data, start_station_name, end_station_name, zone_dictionary):\n",
    "    \n",
    "    start_main_zone, start_sec_zone = zone_dictionary[start_station_name]\n",
    "    \n",
    "    start_station = StationDetails(start_station_name)\n",
    "    \n",
    "     \n",
    "    frontier = BestFirstSearch()\n",
    "    \n",
    "    \n",
    "    frontier.add_station(start_station, None, None, None, None)\n",
    "    \n",
    "    explored_stations = set()\n",
    "    \n",
    "    explored_stations.add((start_station_name, None))\n",
    "    \n",
    "    num_of_explored_stations = 0 \n",
    "    \n",
    "    end_main_zone, end_sec_zone = zone_dictionary[end_station_name]\n",
    "        \n",
    "    \n",
    "    #Looking for the best path until frontier is not empty\n",
    "    while frontier: \n",
    "        \n",
    "        current_station= frontier.remove_station()  \n",
    "        num_of_explored_stations += 1\n",
    "                        \n",
    "            \n",
    "        if current_station.name == end_station_name:\n",
    "            route, time_taken = cost_of_path(current_station)\n",
    "            return route, time_taken, num_of_explored_stations        \n",
    "            \n",
    "        neighbours = station_data.neighbors(current_station.name) \n",
    "            \n",
    "        for neighbour in neighbours:\n",
    "            child_station_time = station_data[current_station.name][neighbour][\"time\"]\n",
    "            child_station_tube = station_data[current_station.name][neighbour][\"tube_line\"]\n",
    "            \n",
    "            child_main_zone, child_secondary_zone = zone_dictionary[neighbour]\n",
    "            \n",
    "            child_station = StationDetails(neighbour, current_station, child_station_time, child_station_tube, child_main_zone, child_secondary_zone)\n",
    "                \n",
    "            #Child station added to the frontier and explored stations   \n",
    "            if (neighbour, child_station_tube) not in explored_stations:                                      \n",
    "                frontier.add_station(child_station, end_main_zone, end_sec_zone, child_main_zone, child_secondary_zone)\n",
    "                explored_stations.add((child_station.name, child_station.tube_line))\n",
    "                            \n",
    " "
   ]
  },
  {
   "cell_type": "code",
   "execution_count": 34,
   "id": "0900a53e",
   "metadata": {},
   "outputs": [
    {
     "name": "stdout",
     "output_type": "stream",
     "text": [
      "Path found by Best First Search algorithm from Euston to Victoria is : \n",
      "['Euston', 'Warren Street', 'Oxford Circus', 'Green Park', 'Victoria']\n",
      "Time taken to travel from Euston to Victoria :  7.0\n",
      "The number of nodes explored on the path from Euston to Victoria is :  40\n"
     ]
    }
   ],
   "source": [
    "path, time_taken, num_of_stations_explored = best_first_search(station_data, \"Euston\", \"Victoria\", zone_dictionary)\n",
    "print(\"Path found by Best First Search algorithm from Euston to Victoria is : \\n\" + str(path))\n",
    "print(\"Time taken to travel from Euston to Victoria : \", time_taken)\n",
    "print(\"The number of nodes explored on the path from Euston to Victoria is : \", num_of_stations_explored)\n"
   ]
  },
  {
   "cell_type": "code",
   "execution_count": 35,
   "id": "cb4c46b5",
   "metadata": {},
   "outputs": [
    {
     "name": "stdout",
     "output_type": "stream",
     "text": [
      "Path found by Best First Search algorithm from Canada Water to Stratford is : \n",
      "['Canada Water', 'Canary Wharf', 'North Greenwich', 'Canning Town', 'West Ham', 'Stratford']\n",
      "Time taken to travel from Canada Water to Stratford :  15.0\n",
      "The number of nodes explored on the path from Canada Water to Stratford is :  20\n"
     ]
    }
   ],
   "source": [
    "start_station = \"Canada Water\"\n",
    "end_station = \"Stratford\"\n",
    "\n",
    "path, time_taken, num_of_stations_explored = best_first_search(station_data, start_station, end_station, zone_dictionary)\n",
    "print(\"Path found by Best First Search algorithm from \" + start_station + \" to \" + end_station + \" is : \\n\" + str(path))\n",
    "print(\"Time taken to travel from \" + start_station + \" to \" + end_station + \" : \" , time_taken)\n",
    "print(\"The number of nodes explored on the path from \" + start_station + \" to \" + end_station + \" is : \", num_of_stations_explored)\n"
   ]
  },
  {
   "cell_type": "code",
   "execution_count": 36,
   "id": "6186ee65",
   "metadata": {},
   "outputs": [
    {
     "name": "stdout",
     "output_type": "stream",
     "text": [
      "Path found by Best First Search algorithm from New Cross Gate to Stepney Green is : \n",
      "['New Cross Gate', 'Surrey Quays', 'Canada Water', 'Rotherhithe', 'Wapping', 'Shadwell', 'Whitechapel', 'Stepney Green']\n",
      "Time taken to travel from New Cross Gate to Stepney Green :  14.0\n",
      "The number of nodes explored on the path from New Cross Gate to Stepney Green is :  14\n"
     ]
    }
   ],
   "source": [
    "start_station = \"New Cross Gate\"\n",
    "end_station = \"Stepney Green\"\n",
    "\n",
    "path, time_taken, num_of_stations_explored = best_first_search(station_data, start_station, end_station, zone_dictionary)\n",
    "print(\"Path found by Best First Search algorithm from \" + start_station + \" to \" + end_station + \" is : \\n\" + str(path))\n",
    "print(\"Time taken to travel from \" + start_station + \" to \" + end_station + \" : \" , time_taken)\n",
    "print(\"The number of nodes explored on the path from \" + start_station + \" to \" + end_station + \" is : \", num_of_stations_explored)\n"
   ]
  },
  {
   "cell_type": "code",
   "execution_count": 37,
   "id": "6e7f0a0a",
   "metadata": {},
   "outputs": [
    {
     "name": "stdout",
     "output_type": "stream",
     "text": [
      "Path found by Best First Search algorithm from Ealing Broadway to South Kensington is : \n",
      "['Ealing Broadway', 'Ealing Common', 'Acton Town', 'Turnham Green', 'Hammersmith', 'Barons Court', \"Earls' Court\", 'Gloucester Road', 'South Kensington']\n",
      "Time taken to travel from Ealing Broadway to South Kensington :  20.0\n",
      "The number of nodes explored on the path from Ealing Broadway to South Kensington is :  36\n"
     ]
    }
   ],
   "source": [
    "start_station = \"Ealing Broadway\"\n",
    "end_station = \"South Kensington\"\n",
    "\n",
    "path, time_taken, num_of_stations_explored = best_first_search(station_data, start_station, end_station, zone_dictionary)\n",
    "print(\"Path found by Best First Search algorithm from \" + start_station + \" to \" + end_station + \" is : \\n\" + str(path))\n",
    "print(\"Time taken to travel from \" + start_station + \" to \" + end_station + \" : \" , time_taken)\n",
    "print(\"The number of nodes explored on the path from \" + start_station + \" to \" + end_station + \" is : \", num_of_stations_explored)\n"
   ]
  },
  {
   "cell_type": "code",
   "execution_count": 38,
   "id": "376b5eae",
   "metadata": {},
   "outputs": [
    {
     "name": "stdout",
     "output_type": "stream",
     "text": [
      "Path found by Best First Search algorithm from Baker Street to Wembley Park is : \n",
      "['Baker Street', 'Finchley Road', 'Wembley Park']\n",
      "Time taken to travel from Baker Street to Wembley Park :  13.0\n",
      "The number of nodes explored on the path from Baker Street to Wembley Park is :  8\n"
     ]
    }
   ],
   "source": [
    "start_station = \"Baker Street\"\n",
    "end_station = \"Wembley Park\"\n",
    "\n",
    "path, time_taken, num_of_stations_explored = best_first_search(station_data, start_station, end_station, zone_dictionary)\n",
    "print(\"Path found by Best First Search algorithm from \" + start_station + \" to \" + end_station + \" is : \\n\" + str(path))\n",
    "print(\"Time taken to travel from \" + start_station + \" to \" + end_station + \" : \" , time_taken)\n",
    "print(\"The number of nodes explored on the path from \" + start_station + \" to \" + end_station + \" is : \", num_of_stations_explored)\n"
   ]
  },
  {
   "cell_type": "markdown",
   "id": "f892cb0a-6f36-4cc4-a246-e2e5ee8e874d",
   "metadata": {},
   "source": [
    "# 3. Genetic Algorithm"
   ]
  },
  {
   "cell_type": "code",
   "execution_count": 39,
   "id": "fb080994",
   "metadata": {},
   "outputs": [],
   "source": [
    "from hints import closeness\n",
    "import random"
   ]
  },
  {
   "cell_type": "code",
   "execution_count": 40,
   "id": "d81cd03b",
   "metadata": {},
   "outputs": [],
   "source": [
    "class Chromosome:\n",
    "    \"\"\"\n",
    "    Used to represent the secret phrase and its fitness\n",
    "    \"\"\"\n",
    "    def __init__(self, secret_phrase, fitness = None):\n",
    "        \"\"\"\n",
    "        Initializes with the secret phrase and the fitness\n",
    "        :param secret_phrase : A string of the gussed phrase\n",
    "        :param fitness : Fitness of the secret phrase obtained from closeness function\n",
    "        \"\"\"\n",
    "        self.secret_phrase = secret_phrase\n",
    "        self.fitness = fitness\n",
    " "
   ]
  },
  {
   "cell_type": "code",
   "execution_count": 41,
   "id": "c8fcee9a-4668-4d59-bc8c-138d8bf9a2a2",
   "metadata": {},
   "outputs": [],
   "source": [
    "def compute_fitness(population):\n",
    "    \"\"\"\n",
    "    Computes the fitness of the list of Chromosomes passed to it\n",
    "    :param population : List containing the chromosomes\n",
    "    :returns population: List of chromosomes containg the secret phrase and their fitness value obtained from closeness function\n",
    "    \"\"\"\n",
    "    population_list = []\n",
    "    for chromosome in population:\n",
    "        population_list.append(chromosome.secret_phrase)\n",
    "        \n",
    "    fitness_dictionary = closeness(population_list, USERNAME)\n",
    "    \n",
    "    population = []\n",
    "    for phrase in fitness_dictionary:\n",
    "        population.append(Chromosome(phrase, fitness_dictionary[phrase]))\n",
    "    return population"
   ]
  },
  {
   "cell_type": "code",
   "execution_count": 42,
   "id": "0ab57cae-adb5-4b3b-86f8-107475a71764",
   "metadata": {},
   "outputs": [],
   "source": [
    "def phrase_generation():\n",
    "    \"\"\"\n",
    "    Generate random strings having length as the PHRASE_LENGTH\n",
    "    :returns string : Randomly generated phrase\n",
    "    \"\"\"\n",
    "    genes = list(\"\")\n",
    "    for i in range(PHRASE_LENGTH):\n",
    "        genes.append(random.choice(GENE_SET))\n",
    "    return ''.join(genes)"
   ]
  },
  {
   "cell_type": "code",
   "execution_count": 43,
   "id": "0fd29592-631c-47f2-8026-d4dfaec885e4",
   "metadata": {},
   "outputs": [],
   "source": [
    "def initialise_population():\n",
    "    \"\"\"\n",
    "    Initialises the population with a list of chromosomes having size of list as the given population size and fitness value as None\n",
    "    :returns population : List of chromosomes with fitness value as None\n",
    "    \"\"\"\n",
    "    population = []\n",
    "    for i in range(POPULATION_SIZE):\n",
    "        population.append(Chromosome(phrase_generation()))\n",
    "    return population"
   ]
  },
  {
   "cell_type": "code",
   "execution_count": 44,
   "id": "d47fbbcd-a802-4b89-816f-1bc4a31b0ae0",
   "metadata": {},
   "outputs": [],
   "source": [
    "def selection(population):\n",
    "    \"\"\"\n",
    "    Selects two chromosomes having highest fitness value as parent from a random pool of TOURNAMENT_SIZE\n",
    "    :param population : List of chromosomes containing secret phrase and fitness value\n",
    "    :returns parent_1, parent_2 : Returns two chromosomes having higest fitness value\n",
    "    \"\"\"\n",
    "    tournament_list = []\n",
    "    \n",
    "    for i in range(TOURNAMENT_SIZE):\n",
    "        tournament_list.append(random.choice(population))\n",
    "    \n",
    "    tournament_list = sorted(tournament_list, key = lambda chromosome: chromosome.fitness, reverse = True)\n",
    "    \n",
    "    parent_1 = tournament_list[0]\n",
    "    parent_2 = tournament_list[1]\n",
    "    \n",
    "    return parent_1, parent_2"
   ]
  },
  {
   "cell_type": "code",
   "execution_count": 45,
   "id": "2f36c15e-a1e9-4fea-8ccc-467e391a9ffa",
   "metadata": {},
   "outputs": [],
   "source": [
    "def crossover(parent_1, parent_2):\n",
    "    \"\"\"\n",
    "    Crossover is done between two fittest parents to produce two children at random crossover points\n",
    "    :param parent_1 : Parent 1\n",
    "    :param parent_2 : Parent 2\n",
    "    :returns : Two Chromosomes containg secret phrase obtained by crossover and fitness value as None\n",
    "    \"\"\"\n",
    "    phrase_1 = parent_1.secret_phrase\n",
    "    phrase_2 = parent_2.secret_phrase\n",
    "    \n",
    "    for i in range(CROSSOVER_POINTS):\n",
    "        crossover_point = random.randint(0, PHRASE_LENGTH - 1)\n",
    "        \n",
    "        crossover_phrase_1 = phrase_1[ : crossover_point] + phrase_2[crossover_point : ]\n",
    "        crossover_phrase_2 = phrase_2[ : crossover_point] + phrase_1[crossover_point : ]\n",
    "        \n",
    "        phrase_1 = crossover_phrase_1\n",
    "        phrase_2 = crossover_phrase_2\n",
    "    \n",
    "    return Chromosome(phrase_1), Chromosome(phrase_2)\n",
    "        "
   ]
  },
  {
   "cell_type": "code",
   "execution_count": 46,
   "id": "6700b3af-908c-4d7b-8d5a-9d94c642f4be",
   "metadata": {},
   "outputs": [],
   "source": [
    "def mutation(population):\n",
    "    \"\"\"\n",
    "    Perform mutation on the list of Chromosomes by mutating a random gene with a probability\n",
    "    :param population : List of chromosomes\n",
    "    :return population : List of chromosomes with mutated gene\n",
    "    \"\"\"\n",
    "    for individual in population:\n",
    "        if random.uniform(0, 1) < MUTATION_PROBABILITY:\n",
    "            position = random.randint(0, PHRASE_LENGTH - 1)\n",
    "            \n",
    "            mutated_gene = random.choice(GENE_SET)\n",
    "            \n",
    "            phrase = list(individual.secret_phrase)\n",
    "            \n",
    "            phrase[position] = mutated_gene\n",
    "            \n",
    "            individual.secret_phrase = \"\".join(phrase)\n",
    "    return population"
   ]
  },
  {
   "cell_type": "code",
   "execution_count": 48,
   "id": "6e1f09cb-fc72-488f-8c3c-048c8f368d7a",
   "metadata": {},
   "outputs": [
    {
     "name": "stdout",
     "output_type": "stream",
     "text": [
      "Secret Phrase :  CAJYS7_ID7\n",
      "Number of reproductions needed to converge to secret phrase :  183\n"
     ]
    }
   ],
   "source": [
    "#random.seed(10)\n",
    "\n",
    "#List of hyperparameters\n",
    "POPULATION_SIZE = 100\n",
    "MUTATION_PROBABILITY = 0.04\n",
    "TOURNAMENT_SIZE = 4\n",
    "CROSSOVER_POINTS = 3\n",
    "\n",
    "PHRASE_LENGTH = 10\n",
    "GENE_SET = \"ABCDEFGHIJKLMNOPQRSTUVWXYZ_0123456789\" \n",
    "\n",
    "#Username(Student Number)\n",
    "USERNAME = \"username\"\n",
    "\n",
    "count_of_generation = 1\n",
    "\n",
    "#Initialising the first generation with random strings having fitness as None\n",
    "initial_population = initialise_population()\n",
    "\n",
    "#Computing the fitness of the first generation of population\n",
    "population = compute_fitness(initial_population)\n",
    "\n",
    "#Sorting the first generation population wrt to fitness in decreasing order\n",
    "sorted_population = sorted(population, key = lambda chromosome : chromosome.fitness, reverse = True)\n",
    "\n",
    "#Looping until the secret phrase is found(fitness of secret phrase = 1)\n",
    "while sorted_population[0].fitness != 1.0:\n",
    "    next_generation = list()\n",
    "    \n",
    "    for i in range(int(POPULATION_SIZE / 2)):\n",
    "        #Selecting two parents from the population\n",
    "        parent_1, parent_2 = selection(population)\n",
    "        \n",
    "        #Crossover being done on the selected parents\n",
    "        child_1, child_2 = crossover(parent_1, parent_2)\n",
    "        \n",
    "        #Adding the childrent produced to the next generation\n",
    "        next_generation.append(child_1)\n",
    "        next_generation.append(child_2)\n",
    "    \n",
    "    #Mutation performed on the next generation\n",
    "    population = mutation(next_generation)\n",
    "    \n",
    "    \n",
    "    population = compute_fitness(population)\n",
    "    \n",
    "    sorted_population = sorted(population, key = lambda chromosome : chromosome.fitness, reverse = True)\n",
    "    \n",
    "    count_of_generation += 1\n",
    "    \n",
    "    \n",
    "secret_phrase = sorted_population[0].secret_phrase\n",
    "print(\"Secret Phrase : \", secret_phrase)\n",
    "print(\"Number of reproductions needed to converge to secret phrase : \", count_of_generation)\n",
    "        "
   ]
  },
  {
   "cell_type": "code",
   "execution_count": null,
   "id": "07e16cc8-ba49-4210-ae46-6620a8b4e510",
   "metadata": {},
   "outputs": [],
   "source": []
  }
 ],
 "metadata": {
  "kernelspec": {
   "display_name": "Python 3 (ipykernel)",
   "language": "python",
   "name": "python3"
  },
  "language_info": {
   "codemirror_mode": {
    "name": "ipython",
    "version": 3
   },
   "file_extension": ".py",
   "mimetype": "text/x-python",
   "name": "python",
   "nbconvert_exporter": "python",
   "pygments_lexer": "ipython3",
   "version": "3.8.3"
  }
 },
 "nbformat": 4,
 "nbformat_minor": 5
}
